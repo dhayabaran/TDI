{
 "cells": [
  {
   "cell_type": "code",
   "execution_count": 35,
   "metadata": {
    "scrolled": true
   },
   "outputs": [],
   "source": [
    "import numpy as np\n",
    "import pandas as pd\n",
    "import matplotlib\n",
    "import matplotlib.pyplot as plt\n",
    "import seaborn as sns"
   ]
  },
  {
   "cell_type": "code",
   "execution_count": 17,
   "metadata": {
    "scrolled": true
   },
   "outputs": [],
   "source": [
    "data = pd.read_csv(\"C:/Users/dp5/Documents/TDI/gun/gun.csv\", parse_dates=[\"date\"])"
   ]
  },
  {
   "cell_type": "markdown",
   "metadata": {},
   "source": [
    "### We can see that Illinois has the highest number of gun-related crime incidents followed by California"
   ]
  },
  {
   "cell_type": "code",
   "execution_count": 31,
   "metadata": {
    "scrolled": true
   },
   "outputs": [
    {
     "data": {
      "text/plain": [
       "Illinois                17556\n",
       "California              16306\n",
       "Florida                 15029\n",
       "Texas                   13577\n",
       "Ohio                    10244\n",
       "New York                 9712\n",
       "Pennsylvania             8929\n",
       "Georgia                  8925\n",
       "North Carolina           8739\n",
       "Louisiana                8103\n",
       "Tennessee                7626\n",
       "South Carolina           6939\n",
       "Missouri                 6631\n",
       "Michigan                 6136\n",
       "Massachusetts            5981\n",
       "Virginia                 5949\n",
       "Indiana                  5852\n",
       "Maryland                 5798\n",
       "Alabama                  5471\n",
       "New Jersey               5387\n",
       "Wisconsin                4787\n",
       "Kentucky                 4157\n",
       "Mississippi              3599\n",
       "Oklahoma                 3455\n",
       "Washington               3434\n",
       "Colorado                 3201\n",
       "District of Columbia     3195\n",
       "Connecticut              3067\n",
       "Arkansas                 2842\n",
       "Iowa                     2517\n",
       "Minnesota                2408\n",
       "Arizona                  2328\n",
       "Oregon                   2286\n",
       "Kansas                   2145\n",
       "Nevada                   1952\n",
       "Delaware                 1685\n",
       "Nebraska                 1651\n",
       "New Mexico               1645\n",
       "West Virginia            1575\n",
       "Alaska                   1349\n",
       "Utah                     1072\n",
       "New Hampshire             964\n",
       "Maine                     907\n",
       "Rhode Island              895\n",
       "Idaho                     661\n",
       "Montana                   638\n",
       "North Dakota              573\n",
       "South Dakota              544\n",
       "Wyoming                   494\n",
       "Vermont                   472\n",
       "Hawaii                    289\n",
       "Name: state, dtype: int64"
      ]
     },
     "execution_count": 31,
     "metadata": {},
     "output_type": "execute_result"
    }
   ],
   "source": [
    "temp = data[\"state\"].value_counts()\n",
    "temp"
   ]
  },
  {
   "cell_type": "code",
   "execution_count": 21,
   "metadata": {},
   "outputs": [],
   "source": [
    "data['weekdays'] = data['date'].dt.dayofweek\n",
    "data['month'] = data['date'].dt.month \n",
    "data['year'] = data['date'].dt.year"
   ]
  },
  {
   "cell_type": "code",
   "execution_count": 43,
   "metadata": {
    "scrolled": true
   },
   "outputs": [
    {
     "data": {
      "text/html": [
       "<div>\n",
       "<style scoped>\n",
       "    .dataframe tbody tr th:only-of-type {\n",
       "        vertical-align: middle;\n",
       "    }\n",
       "\n",
       "    .dataframe tbody tr th {\n",
       "        vertical-align: top;\n",
       "    }\n",
       "\n",
       "    .dataframe thead th {\n",
       "        text-align: right;\n",
       "    }\n",
       "</style>\n",
       "<table border=\"1\" class=\"dataframe\">\n",
       "  <thead>\n",
       "    <tr style=\"text-align: right;\">\n",
       "      <th></th>\n",
       "      <th>weekdays</th>\n",
       "      <th>n_killed</th>\n",
       "      <th>n_injured</th>\n",
       "    </tr>\n",
       "  </thead>\n",
       "  <tbody>\n",
       "    <tr>\n",
       "      <th>0</th>\n",
       "      <td>0</td>\n",
       "      <td>8383</td>\n",
       "      <td>16164</td>\n",
       "    </tr>\n",
       "    <tr>\n",
       "      <th>1</th>\n",
       "      <td>1</td>\n",
       "      <td>7917</td>\n",
       "      <td>15168</td>\n",
       "    </tr>\n",
       "    <tr>\n",
       "      <th>2</th>\n",
       "      <td>2</td>\n",
       "      <td>8083</td>\n",
       "      <td>15193</td>\n",
       "    </tr>\n",
       "    <tr>\n",
       "      <th>3</th>\n",
       "      <td>3</td>\n",
       "      <td>7732</td>\n",
       "      <td>14481</td>\n",
       "    </tr>\n",
       "    <tr>\n",
       "      <th>4</th>\n",
       "      <td>4</td>\n",
       "      <td>8353</td>\n",
       "      <td>15275</td>\n",
       "    </tr>\n",
       "    <tr>\n",
       "      <th>5</th>\n",
       "      <td>5</td>\n",
       "      <td>9813</td>\n",
       "      <td>20559</td>\n",
       "    </tr>\n",
       "    <tr>\n",
       "      <th>6</th>\n",
       "      <td>6</td>\n",
       "      <td>10187</td>\n",
       "      <td>21562</td>\n",
       "    </tr>\n",
       "  </tbody>\n",
       "</table>\n",
       "</div>"
      ],
      "text/plain": [
       "   weekdays  n_killed  n_injured\n",
       "0         0      8383      16164\n",
       "1         1      7917      15168\n",
       "2         2      8083      15193\n",
       "3         3      7732      14481\n",
       "4         4      8353      15275\n",
       "5         5      9813      20559\n",
       "6         6     10187      21562"
      ]
     },
     "execution_count": 43,
     "metadata": {},
     "output_type": "execute_result"
    }
   ],
   "source": [
    "temp1 = data [['n_killed', 'n_injured', 'weekdays']]\n",
    "temp1 = data.groupby('weekdays').sum()\n",
    "temp1 = temp1.reset_index()\n",
    "temp2 = temp1[['weekdays', 'n_killed', 'n_injured']]\n",
    "temp2"
   ]
  },
  {
   "cell_type": "markdown",
   "metadata": {},
   "source": [
    "### Both the total number of people injured and total number of people killed is higher on Sundays. The green bars represent total killed and the blue bars represent total injured"
   ]
  },
  {
   "cell_type": "code",
   "execution_count": 39,
   "metadata": {},
   "outputs": [
    {
     "data": {
      "image/png": "[encoded data removed]",
      "text/plain": [
       "<Figure size 432x288 with 1 Axes>"
      ]
     },
     "metadata": {},
     "output_type": "display_data"
    }
   ],
   "source": [
    "N = 7\n",
    "ind = np.arange(N)  # the x locations for the groups\n",
    "width = 0.27       # the width of the bars\n",
    "\n",
    "fig = plt.figure()\n",
    "ax = fig.add_subplot(111)\n",
    "\n",
    "yvals = temp2['n_killed']\n",
    "rects1 = ax.bar(ind, yvals, width, color='g')\n",
    "zvals = temp2['n_injured']\n",
    "rects2 = ax.bar(ind+width, zvals, width, color='b')\n",
    "\n",
    "ax.set_ylabel('Count')\n",
    "ax.set_xticks(ind+width)\n",
    "ax.set_xticklabels( ('Mon', 'Tues', 'Wedn','Thurs','Fri','Sat','Sun') )\n",
    "\n",
    "\n",
    "\n",
    "\n",
    "plt.show()\n"
   ]
  },
  {
   "cell_type": "code",
   "execution_count": 42,
   "metadata": {},
   "outputs": [
    {
     "data": {
      "text/html": [
       "<div>\n",
       "<style scoped>\n",
       "    .dataframe tbody tr th:only-of-type {\n",
       "        vertical-align: middle;\n",
       "    }\n",
       "\n",
       "    .dataframe tbody tr th {\n",
       "        vertical-align: top;\n",
       "    }\n",
       "\n",
       "    .dataframe thead th {\n",
       "        text-align: right;\n",
       "    }\n",
       "</style>\n",
       "<table border=\"1\" class=\"dataframe\">\n",
       "  <thead>\n",
       "    <tr style=\"text-align: right;\">\n",
       "      <th></th>\n",
       "      <th>month</th>\n",
       "      <th>n_killed</th>\n",
       "      <th>n_injured</th>\n",
       "    </tr>\n",
       "  </thead>\n",
       "  <tbody>\n",
       "    <tr>\n",
       "      <th>0</th>\n",
       "      <td>1</td>\n",
       "      <td>6035</td>\n",
       "      <td>10946</td>\n",
       "    </tr>\n",
       "    <tr>\n",
       "      <th>1</th>\n",
       "      <td>2</td>\n",
       "      <td>4945</td>\n",
       "      <td>8420</td>\n",
       "    </tr>\n",
       "    <tr>\n",
       "      <th>2</th>\n",
       "      <td>3</td>\n",
       "      <td>5641</td>\n",
       "      <td>10475</td>\n",
       "    </tr>\n",
       "    <tr>\n",
       "      <th>3</th>\n",
       "      <td>4</td>\n",
       "      <td>4383</td>\n",
       "      <td>8907</td>\n",
       "    </tr>\n",
       "    <tr>\n",
       "      <th>4</th>\n",
       "      <td>5</td>\n",
       "      <td>4830</td>\n",
       "      <td>10244</td>\n",
       "    </tr>\n",
       "    <tr>\n",
       "      <th>5</th>\n",
       "      <td>6</td>\n",
       "      <td>4886</td>\n",
       "      <td>9797</td>\n",
       "    </tr>\n",
       "    <tr>\n",
       "      <th>6</th>\n",
       "      <td>7</td>\n",
       "      <td>5276</td>\n",
       "      <td>11259</td>\n",
       "    </tr>\n",
       "    <tr>\n",
       "      <th>7</th>\n",
       "      <td>8</td>\n",
       "      <td>5127</td>\n",
       "      <td>10809</td>\n",
       "    </tr>\n",
       "    <tr>\n",
       "      <th>8</th>\n",
       "      <td>9</td>\n",
       "      <td>4779</td>\n",
       "      <td>9766</td>\n",
       "    </tr>\n",
       "    <tr>\n",
       "      <th>9</th>\n",
       "      <td>10</td>\n",
       "      <td>4791</td>\n",
       "      <td>9756</td>\n",
       "    </tr>\n",
       "    <tr>\n",
       "      <th>10</th>\n",
       "      <td>11</td>\n",
       "      <td>4848</td>\n",
       "      <td>9087</td>\n",
       "    </tr>\n",
       "    <tr>\n",
       "      <th>11</th>\n",
       "      <td>12</td>\n",
       "      <td>4927</td>\n",
       "      <td>8936</td>\n",
       "    </tr>\n",
       "  </tbody>\n",
       "</table>\n",
       "</div>"
      ],
      "text/plain": [
       "    month  n_killed  n_injured\n",
       "0       1      6035      10946\n",
       "1       2      4945       8420\n",
       "2       3      5641      10475\n",
       "3       4      4383       8907\n",
       "4       5      4830      10244\n",
       "5       6      4886       9797\n",
       "6       7      5276      11259\n",
       "7       8      5127      10809\n",
       "8       9      4779       9766\n",
       "9      10      4791       9756\n",
       "10     11      4848       9087\n",
       "11     12      4927       8936"
      ]
     },
     "execution_count": 42,
     "metadata": {},
     "output_type": "execute_result"
    }
   ],
   "source": [
    "temp3 = data [['n_killed', 'n_injured', 'month']]\n",
    "temp3 = data.groupby('month').sum()\n",
    "temp3 = temp3.reset_index()\n",
    "temp4 = temp3[['month', 'n_killed', 'n_injured']]\n",
    "temp4"
   ]
  },
  {
   "cell_type": "markdown",
   "metadata": {},
   "source": [
    "### July has highest value for total number of people injured but more people are killed in January"
   ]
  },
  {
   "cell_type": "code",
   "execution_count": 44,
   "metadata": {},
   "outputs": [
    {
     "data": {
      "image/png": "[encoded data removed]",
      "text/plain": [
       "<Figure size 432x288 with 1 Axes>"
      ]
     },
     "metadata": {},
     "output_type": "display_data"
    }
   ],
   "source": [
    "N = 12\n",
    "ind = np.arange(N)  # the x locations for the groups\n",
    "width = 0.27       # the width of the bars\n",
    "\n",
    "fig = plt.figure()\n",
    "ax = fig.add_subplot(111)\n",
    "\n",
    "yvals = temp4['n_killed']\n",
    "rects1 = ax.bar(ind, yvals, width, color='g')\n",
    "zvals = temp4['n_injured']\n",
    "rects2 = ax.bar(ind+width, zvals, width, color='b')\n",
    "\n",
    "ax.set_ylabel('Count')\n",
    "ax.set_xticks(ind+width)\n",
    "ax.set_xticklabels( ('Jan', 'Feb', 'Mar','Apr','May','June','July', 'Aug', 'Sep', 'Oct', 'Nov', 'Dec') )\n",
    "\n",
    "\n",
    "\n",
    "\n",
    "plt.show()"
   ]
  },
  {
   "cell_type": "code",
   "execution_count": null,
   "metadata": {},
   "outputs": [],
   "source": []
  }
 ],
 "metadata": {
  "kernelspec": {
   "display_name": "Python 3",
   "language": "python",
   "name": "python3"
  },
  "language_info": {
   "codemirror_mode": {
    "name": "ipython",
    "version": 3
   },
   "file_extension": ".py",
   "mimetype": "text/x-python",
   "name": "python",
   "nbconvert_exporter": "python",
   "pygments_lexer": "ipython3",
   "version": "3.6.5"
  }
 },
 "nbformat": 4,
 "nbformat_minor": 2
}
